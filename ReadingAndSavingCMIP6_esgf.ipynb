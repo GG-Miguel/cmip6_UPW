{
 "cells": [
  {
   "cell_type": "code",
   "execution_count": 1,
   "id": "2d856e7e-5113-4bcb-b047-b8297170fcd1",
   "metadata": {},
   "outputs": [],
   "source": [
    "import matplotlib.pyplot as plt\n",
    "import cartopy.crs as ccrs\n",
    "import numpy as np\n",
    "import pandas as pd\n",
    "import xarray as xr"
   ]
  },
  {
   "cell_type": "code",
   "execution_count": 2,
   "id": "a55514c4-82c1-410e-ae33-84d8f400697b",
   "metadata": {},
   "outputs": [],
   "source": [
    "import datetime as dt\n",
    "from __future__ import print_function\n",
    "import requests\n",
    "import xml.etree.ElementTree as ET\n",
    "import numpy\n",
    "import netCDF4"
   ]
  },
  {
   "cell_type": "code",
   "execution_count": 3,
   "id": "d06d658c",
   "metadata": {},
   "outputs": [],
   "source": [
    "# Author: Unknown\n",
    "# I got the original version from a word document published by ESGF\n",
    "# https://docs.google.com/document/d/1pxz1Kd3JHfFp8vR2JCVBfApbsHmbUQQstifhGNdc6U0/edit?usp=sharing\n",
    "# API AT: https://github.com/ESGF/esgf.github.io/wiki/ESGF_Search_REST_API#results-pagination\n",
    "\n",
    "def esgf_search(server=\"https://esgf-node.llnl.gov/esg-search/search\",\n",
    "                files_type=\"OPENDAP\", local_node=True, project=\"CMIP6\",\n",
    "                verbose=False, format=\"application%2Fsolr%2Bjson\",\n",
    "                use_csrf=False, **search):\n",
    "    client = requests.session()\n",
    "    payload = search\n",
    "    payload[\"project\"] = project\n",
    "    payload[\"type\"]= \"File\"\n",
    "    if local_node:\n",
    "        payload[\"distrib\"] = \"false\"\n",
    "    if use_csrf:\n",
    "        client.get(server)\n",
    "        if 'csrftoken' in client.cookies:\n",
    "            # Django 1.6 and up\n",
    "            csrftoken = client.cookies['csrftoken']\n",
    "        else:\n",
    "            # older versions\n",
    "            csrftoken = client.cookies['csrf']\n",
    "        payload[\"csrfmiddlewaretoken\"] = csrftoken\n",
    "\n",
    "    payload[\"format\"] = format\n",
    "\n",
    "    offset = 0\n",
    "    numFound = 10000\n",
    "    all_files = []\n",
    "    files_type = files_type.upper()\n",
    "    while offset < numFound:\n",
    "        payload[\"offset\"] = offset\n",
    "        url_keys = []\n",
    "        for k in payload:\n",
    "            url_keys += [\"{}={}\".format(k, payload[k])]\n",
    "\n",
    "        url = \"{}/?{}\".format(server, \"&\".join(url_keys))\n",
    "        print(url)\n",
    "        r = client.get(url)\n",
    "        r.raise_for_status()\n",
    "        resp = r.json()[\"response\"]\n",
    "        numFound = int(resp[\"numFound\"])\n",
    "        resp = resp[\"docs\"]\n",
    "        offset += len(resp)\n",
    "        for d in resp:\n",
    "            if verbose:\n",
    "                for k in d:\n",
    "                    print(\"{}: {}\".format(k,d[k]))\n",
    "            url = d[\"url\"]\n",
    "            for f in d[\"url\"]:\n",
    "                sp = f.split(\"|\")\n",
    "                if sp[-1] == files_type:\n",
    "                    all_files.append(sp[0].split(\".html\")[0])\n",
    "    return sorted(all_files)"
   ]
  },
  {
   "cell_type": "code",
   "execution_count": 4,
   "id": "fa114926-ae30-445b-abdd-f06ead56b630",
   "metadata": {},
   "outputs": [
    {
     "name": "stdout",
     "output_type": "stream",
     "text": [
      "https://esgf-node.llnl.gov/esg-search/search/?activity_id=HighResMIP&table_id=Omon&variable_id=tos&experiment_id=hist-1950&institution_id=MPI-M&source_id=MPI-ESM1-2-HR&grid_label=gn&member_id=r1i1p1f1&project=CMIP6&type=File&distrib=false&format=application%2Fsolr%2Bjson&offset=0\n"
     ]
    },
    {
     "ename": "ConnectionError",
     "evalue": "HTTPSConnectionPool(host='esgf-node.llnl.gov', port=443): Max retries exceeded with url: /esg-search/search/?activity_id=HighResMIP&table_id=Omon&variable_id=tos&experiment_id=hist-1950&institution_id=MPI-M&source_id=MPI-ESM1-2-HR&grid_label=gn&member_id=r1i1p1f1&project=CMIP6&type=File&distrib=false&format=application%2Fsolr%2Bjson&offset=0 (Caused by NewConnectionError('<urllib3.connection.HTTPSConnection object at 0x106b79c70>: Failed to establish a new connection: [Errno 8] nodename nor servname provided, or not known'))",
     "output_type": "error",
     "traceback": [
      "\u001b[0;31m---------------------------------------------------------------------------\u001b[0m",
      "\u001b[0;31mgaierror\u001b[0m                                  Traceback (most recent call last)",
      "File \u001b[0;32m~/miniconda3/envs/pangeo/lib/python3.9/site-packages/urllib3/connection.py:174\u001b[0m, in \u001b[0;36mHTTPConnection._new_conn\u001b[0;34m(self)\u001b[0m\n\u001b[1;32m    173\u001b[0m \u001b[38;5;28;01mtry\u001b[39;00m:\n\u001b[0;32m--> 174\u001b[0m     conn \u001b[38;5;241m=\u001b[39m \u001b[43mconnection\u001b[49m\u001b[38;5;241;43m.\u001b[39;49m\u001b[43mcreate_connection\u001b[49m\u001b[43m(\u001b[49m\n\u001b[1;32m    175\u001b[0m \u001b[43m        \u001b[49m\u001b[43m(\u001b[49m\u001b[38;5;28;43mself\u001b[39;49m\u001b[38;5;241;43m.\u001b[39;49m\u001b[43m_dns_host\u001b[49m\u001b[43m,\u001b[49m\u001b[43m \u001b[49m\u001b[38;5;28;43mself\u001b[39;49m\u001b[38;5;241;43m.\u001b[39;49m\u001b[43mport\u001b[49m\u001b[43m)\u001b[49m\u001b[43m,\u001b[49m\u001b[43m \u001b[49m\u001b[38;5;28;43mself\u001b[39;49m\u001b[38;5;241;43m.\u001b[39;49m\u001b[43mtimeout\u001b[49m\u001b[43m,\u001b[49m\u001b[43m \u001b[49m\u001b[38;5;241;43m*\u001b[39;49m\u001b[38;5;241;43m*\u001b[39;49m\u001b[43mextra_kw\u001b[49m\n\u001b[1;32m    176\u001b[0m \u001b[43m    \u001b[49m\u001b[43m)\u001b[49m\n\u001b[1;32m    178\u001b[0m \u001b[38;5;28;01mexcept\u001b[39;00m SocketTimeout:\n",
      "File \u001b[0;32m~/miniconda3/envs/pangeo/lib/python3.9/site-packages/urllib3/util/connection.py:72\u001b[0m, in \u001b[0;36mcreate_connection\u001b[0;34m(address, timeout, source_address, socket_options)\u001b[0m\n\u001b[1;32m     68\u001b[0m     \u001b[38;5;28;01mreturn\u001b[39;00m six\u001b[38;5;241m.\u001b[39mraise_from(\n\u001b[1;32m     69\u001b[0m         LocationParseError(\u001b[38;5;124mu\u001b[39m\u001b[38;5;124m\"\u001b[39m\u001b[38;5;124m'\u001b[39m\u001b[38;5;132;01m%s\u001b[39;00m\u001b[38;5;124m'\u001b[39m\u001b[38;5;124m, label empty or too long\u001b[39m\u001b[38;5;124m\"\u001b[39m \u001b[38;5;241m%\u001b[39m host), \u001b[38;5;28;01mNone\u001b[39;00m\n\u001b[1;32m     70\u001b[0m     )\n\u001b[0;32m---> 72\u001b[0m \u001b[38;5;28;01mfor\u001b[39;00m res \u001b[38;5;129;01min\u001b[39;00m \u001b[43msocket\u001b[49m\u001b[38;5;241;43m.\u001b[39;49m\u001b[43mgetaddrinfo\u001b[49m\u001b[43m(\u001b[49m\u001b[43mhost\u001b[49m\u001b[43m,\u001b[49m\u001b[43m \u001b[49m\u001b[43mport\u001b[49m\u001b[43m,\u001b[49m\u001b[43m \u001b[49m\u001b[43mfamily\u001b[49m\u001b[43m,\u001b[49m\u001b[43m \u001b[49m\u001b[43msocket\u001b[49m\u001b[38;5;241;43m.\u001b[39;49m\u001b[43mSOCK_STREAM\u001b[49m\u001b[43m)\u001b[49m:\n\u001b[1;32m     73\u001b[0m     af, socktype, proto, canonname, sa \u001b[38;5;241m=\u001b[39m res\n",
      "File \u001b[0;32m~/miniconda3/envs/pangeo/lib/python3.9/socket.py:954\u001b[0m, in \u001b[0;36mgetaddrinfo\u001b[0;34m(host, port, family, type, proto, flags)\u001b[0m\n\u001b[1;32m    953\u001b[0m addrlist \u001b[38;5;241m=\u001b[39m []\n\u001b[0;32m--> 954\u001b[0m \u001b[38;5;28;01mfor\u001b[39;00m res \u001b[38;5;129;01min\u001b[39;00m \u001b[43m_socket\u001b[49m\u001b[38;5;241;43m.\u001b[39;49m\u001b[43mgetaddrinfo\u001b[49m\u001b[43m(\u001b[49m\u001b[43mhost\u001b[49m\u001b[43m,\u001b[49m\u001b[43m \u001b[49m\u001b[43mport\u001b[49m\u001b[43m,\u001b[49m\u001b[43m \u001b[49m\u001b[43mfamily\u001b[49m\u001b[43m,\u001b[49m\u001b[43m \u001b[49m\u001b[38;5;28;43mtype\u001b[39;49m\u001b[43m,\u001b[49m\u001b[43m \u001b[49m\u001b[43mproto\u001b[49m\u001b[43m,\u001b[49m\u001b[43m \u001b[49m\u001b[43mflags\u001b[49m\u001b[43m)\u001b[49m:\n\u001b[1;32m    955\u001b[0m     af, socktype, proto, canonname, sa \u001b[38;5;241m=\u001b[39m res\n",
      "\u001b[0;31mgaierror\u001b[0m: [Errno 8] nodename nor servname provided, or not known",
      "\nDuring handling of the above exception, another exception occurred:\n",
      "\u001b[0;31mNewConnectionError\u001b[0m                        Traceback (most recent call last)",
      "File \u001b[0;32m~/miniconda3/envs/pangeo/lib/python3.9/site-packages/urllib3/connectionpool.py:703\u001b[0m, in \u001b[0;36mHTTPConnectionPool.urlopen\u001b[0;34m(self, method, url, body, headers, retries, redirect, assert_same_host, timeout, pool_timeout, release_conn, chunked, body_pos, **response_kw)\u001b[0m\n\u001b[1;32m    702\u001b[0m \u001b[38;5;66;03m# Make the request on the httplib connection object.\u001b[39;00m\n\u001b[0;32m--> 703\u001b[0m httplib_response \u001b[38;5;241m=\u001b[39m \u001b[38;5;28;43mself\u001b[39;49m\u001b[38;5;241;43m.\u001b[39;49m\u001b[43m_make_request\u001b[49m\u001b[43m(\u001b[49m\n\u001b[1;32m    704\u001b[0m \u001b[43m    \u001b[49m\u001b[43mconn\u001b[49m\u001b[43m,\u001b[49m\n\u001b[1;32m    705\u001b[0m \u001b[43m    \u001b[49m\u001b[43mmethod\u001b[49m\u001b[43m,\u001b[49m\n\u001b[1;32m    706\u001b[0m \u001b[43m    \u001b[49m\u001b[43murl\u001b[49m\u001b[43m,\u001b[49m\n\u001b[1;32m    707\u001b[0m \u001b[43m    \u001b[49m\u001b[43mtimeout\u001b[49m\u001b[38;5;241;43m=\u001b[39;49m\u001b[43mtimeout_obj\u001b[49m\u001b[43m,\u001b[49m\n\u001b[1;32m    708\u001b[0m \u001b[43m    \u001b[49m\u001b[43mbody\u001b[49m\u001b[38;5;241;43m=\u001b[39;49m\u001b[43mbody\u001b[49m\u001b[43m,\u001b[49m\n\u001b[1;32m    709\u001b[0m \u001b[43m    \u001b[49m\u001b[43mheaders\u001b[49m\u001b[38;5;241;43m=\u001b[39;49m\u001b[43mheaders\u001b[49m\u001b[43m,\u001b[49m\n\u001b[1;32m    710\u001b[0m \u001b[43m    \u001b[49m\u001b[43mchunked\u001b[49m\u001b[38;5;241;43m=\u001b[39;49m\u001b[43mchunked\u001b[49m\u001b[43m,\u001b[49m\n\u001b[1;32m    711\u001b[0m \u001b[43m\u001b[49m\u001b[43m)\u001b[49m\n\u001b[1;32m    713\u001b[0m \u001b[38;5;66;03m# If we're going to release the connection in ``finally:``, then\u001b[39;00m\n\u001b[1;32m    714\u001b[0m \u001b[38;5;66;03m# the response doesn't need to know about the connection. Otherwise\u001b[39;00m\n\u001b[1;32m    715\u001b[0m \u001b[38;5;66;03m# it will also try to release it and we'll have a double-release\u001b[39;00m\n\u001b[1;32m    716\u001b[0m \u001b[38;5;66;03m# mess.\u001b[39;00m\n",
      "File \u001b[0;32m~/miniconda3/envs/pangeo/lib/python3.9/site-packages/urllib3/connectionpool.py:386\u001b[0m, in \u001b[0;36mHTTPConnectionPool._make_request\u001b[0;34m(self, conn, method, url, timeout, chunked, **httplib_request_kw)\u001b[0m\n\u001b[1;32m    385\u001b[0m \u001b[38;5;28;01mtry\u001b[39;00m:\n\u001b[0;32m--> 386\u001b[0m     \u001b[38;5;28;43mself\u001b[39;49m\u001b[38;5;241;43m.\u001b[39;49m\u001b[43m_validate_conn\u001b[49m\u001b[43m(\u001b[49m\u001b[43mconn\u001b[49m\u001b[43m)\u001b[49m\n\u001b[1;32m    387\u001b[0m \u001b[38;5;28;01mexcept\u001b[39;00m (SocketTimeout, BaseSSLError) \u001b[38;5;28;01mas\u001b[39;00m e:\n\u001b[1;32m    388\u001b[0m     \u001b[38;5;66;03m# Py2 raises this as a BaseSSLError, Py3 raises it as socket timeout.\u001b[39;00m\n",
      "File \u001b[0;32m~/miniconda3/envs/pangeo/lib/python3.9/site-packages/urllib3/connectionpool.py:1040\u001b[0m, in \u001b[0;36mHTTPSConnectionPool._validate_conn\u001b[0;34m(self, conn)\u001b[0m\n\u001b[1;32m   1039\u001b[0m \u001b[38;5;28;01mif\u001b[39;00m \u001b[38;5;129;01mnot\u001b[39;00m \u001b[38;5;28mgetattr\u001b[39m(conn, \u001b[38;5;124m\"\u001b[39m\u001b[38;5;124msock\u001b[39m\u001b[38;5;124m\"\u001b[39m, \u001b[38;5;28;01mNone\u001b[39;00m):  \u001b[38;5;66;03m# AppEngine might not have  `.sock`\u001b[39;00m\n\u001b[0;32m-> 1040\u001b[0m     \u001b[43mconn\u001b[49m\u001b[38;5;241;43m.\u001b[39;49m\u001b[43mconnect\u001b[49m\u001b[43m(\u001b[49m\u001b[43m)\u001b[49m\n\u001b[1;32m   1042\u001b[0m \u001b[38;5;28;01mif\u001b[39;00m \u001b[38;5;129;01mnot\u001b[39;00m conn\u001b[38;5;241m.\u001b[39mis_verified:\n",
      "File \u001b[0;32m~/miniconda3/envs/pangeo/lib/python3.9/site-packages/urllib3/connection.py:358\u001b[0m, in \u001b[0;36mHTTPSConnection.connect\u001b[0;34m(self)\u001b[0m\n\u001b[1;32m    356\u001b[0m \u001b[38;5;28;01mdef\u001b[39;00m \u001b[38;5;21mconnect\u001b[39m(\u001b[38;5;28mself\u001b[39m):\n\u001b[1;32m    357\u001b[0m     \u001b[38;5;66;03m# Add certificate verification\u001b[39;00m\n\u001b[0;32m--> 358\u001b[0m     \u001b[38;5;28mself\u001b[39m\u001b[38;5;241m.\u001b[39msock \u001b[38;5;241m=\u001b[39m conn \u001b[38;5;241m=\u001b[39m \u001b[38;5;28;43mself\u001b[39;49m\u001b[38;5;241;43m.\u001b[39;49m\u001b[43m_new_conn\u001b[49m\u001b[43m(\u001b[49m\u001b[43m)\u001b[49m\n\u001b[1;32m    359\u001b[0m     hostname \u001b[38;5;241m=\u001b[39m \u001b[38;5;28mself\u001b[39m\u001b[38;5;241m.\u001b[39mhost\n",
      "File \u001b[0;32m~/miniconda3/envs/pangeo/lib/python3.9/site-packages/urllib3/connection.py:186\u001b[0m, in \u001b[0;36mHTTPConnection._new_conn\u001b[0;34m(self)\u001b[0m\n\u001b[1;32m    185\u001b[0m \u001b[38;5;28;01mexcept\u001b[39;00m SocketError \u001b[38;5;28;01mas\u001b[39;00m e:\n\u001b[0;32m--> 186\u001b[0m     \u001b[38;5;28;01mraise\u001b[39;00m NewConnectionError(\n\u001b[1;32m    187\u001b[0m         \u001b[38;5;28mself\u001b[39m, \u001b[38;5;124m\"\u001b[39m\u001b[38;5;124mFailed to establish a new connection: \u001b[39m\u001b[38;5;132;01m%s\u001b[39;00m\u001b[38;5;124m\"\u001b[39m \u001b[38;5;241m%\u001b[39m e\n\u001b[1;32m    188\u001b[0m     )\n\u001b[1;32m    190\u001b[0m \u001b[38;5;28;01mreturn\u001b[39;00m conn\n",
      "\u001b[0;31mNewConnectionError\u001b[0m: <urllib3.connection.HTTPSConnection object at 0x106b79c70>: Failed to establish a new connection: [Errno 8] nodename nor servname provided, or not known",
      "\nDuring handling of the above exception, another exception occurred:\n",
      "\u001b[0;31mMaxRetryError\u001b[0m                             Traceback (most recent call last)",
      "File \u001b[0;32m~/miniconda3/envs/pangeo/lib/python3.9/site-packages/requests/adapters.py:440\u001b[0m, in \u001b[0;36mHTTPAdapter.send\u001b[0;34m(self, request, stream, timeout, verify, cert, proxies)\u001b[0m\n\u001b[1;32m    439\u001b[0m \u001b[38;5;28;01mif\u001b[39;00m \u001b[38;5;129;01mnot\u001b[39;00m chunked:\n\u001b[0;32m--> 440\u001b[0m     resp \u001b[38;5;241m=\u001b[39m \u001b[43mconn\u001b[49m\u001b[38;5;241;43m.\u001b[39;49m\u001b[43murlopen\u001b[49m\u001b[43m(\u001b[49m\n\u001b[1;32m    441\u001b[0m \u001b[43m        \u001b[49m\u001b[43mmethod\u001b[49m\u001b[38;5;241;43m=\u001b[39;49m\u001b[43mrequest\u001b[49m\u001b[38;5;241;43m.\u001b[39;49m\u001b[43mmethod\u001b[49m\u001b[43m,\u001b[49m\n\u001b[1;32m    442\u001b[0m \u001b[43m        \u001b[49m\u001b[43murl\u001b[49m\u001b[38;5;241;43m=\u001b[39;49m\u001b[43murl\u001b[49m\u001b[43m,\u001b[49m\n\u001b[1;32m    443\u001b[0m \u001b[43m        \u001b[49m\u001b[43mbody\u001b[49m\u001b[38;5;241;43m=\u001b[39;49m\u001b[43mrequest\u001b[49m\u001b[38;5;241;43m.\u001b[39;49m\u001b[43mbody\u001b[49m\u001b[43m,\u001b[49m\n\u001b[1;32m    444\u001b[0m \u001b[43m        \u001b[49m\u001b[43mheaders\u001b[49m\u001b[38;5;241;43m=\u001b[39;49m\u001b[43mrequest\u001b[49m\u001b[38;5;241;43m.\u001b[39;49m\u001b[43mheaders\u001b[49m\u001b[43m,\u001b[49m\n\u001b[1;32m    445\u001b[0m \u001b[43m        \u001b[49m\u001b[43mredirect\u001b[49m\u001b[38;5;241;43m=\u001b[39;49m\u001b[38;5;28;43;01mFalse\u001b[39;49;00m\u001b[43m,\u001b[49m\n\u001b[1;32m    446\u001b[0m \u001b[43m        \u001b[49m\u001b[43massert_same_host\u001b[49m\u001b[38;5;241;43m=\u001b[39;49m\u001b[38;5;28;43;01mFalse\u001b[39;49;00m\u001b[43m,\u001b[49m\n\u001b[1;32m    447\u001b[0m \u001b[43m        \u001b[49m\u001b[43mpreload_content\u001b[49m\u001b[38;5;241;43m=\u001b[39;49m\u001b[38;5;28;43;01mFalse\u001b[39;49;00m\u001b[43m,\u001b[49m\n\u001b[1;32m    448\u001b[0m \u001b[43m        \u001b[49m\u001b[43mdecode_content\u001b[49m\u001b[38;5;241;43m=\u001b[39;49m\u001b[38;5;28;43;01mFalse\u001b[39;49;00m\u001b[43m,\u001b[49m\n\u001b[1;32m    449\u001b[0m \u001b[43m        \u001b[49m\u001b[43mretries\u001b[49m\u001b[38;5;241;43m=\u001b[39;49m\u001b[38;5;28;43mself\u001b[39;49m\u001b[38;5;241;43m.\u001b[39;49m\u001b[43mmax_retries\u001b[49m\u001b[43m,\u001b[49m\n\u001b[1;32m    450\u001b[0m \u001b[43m        \u001b[49m\u001b[43mtimeout\u001b[49m\u001b[38;5;241;43m=\u001b[39;49m\u001b[43mtimeout\u001b[49m\n\u001b[1;32m    451\u001b[0m \u001b[43m    \u001b[49m\u001b[43m)\u001b[49m\n\u001b[1;32m    453\u001b[0m \u001b[38;5;66;03m# Send the request.\u001b[39;00m\n\u001b[1;32m    454\u001b[0m \u001b[38;5;28;01melse\u001b[39;00m:\n",
      "File \u001b[0;32m~/miniconda3/envs/pangeo/lib/python3.9/site-packages/urllib3/connectionpool.py:785\u001b[0m, in \u001b[0;36mHTTPConnectionPool.urlopen\u001b[0;34m(self, method, url, body, headers, retries, redirect, assert_same_host, timeout, pool_timeout, release_conn, chunked, body_pos, **response_kw)\u001b[0m\n\u001b[1;32m    783\u001b[0m     e \u001b[38;5;241m=\u001b[39m ProtocolError(\u001b[38;5;124m\"\u001b[39m\u001b[38;5;124mConnection aborted.\u001b[39m\u001b[38;5;124m\"\u001b[39m, e)\n\u001b[0;32m--> 785\u001b[0m retries \u001b[38;5;241m=\u001b[39m \u001b[43mretries\u001b[49m\u001b[38;5;241;43m.\u001b[39;49m\u001b[43mincrement\u001b[49m\u001b[43m(\u001b[49m\n\u001b[1;32m    786\u001b[0m \u001b[43m    \u001b[49m\u001b[43mmethod\u001b[49m\u001b[43m,\u001b[49m\u001b[43m \u001b[49m\u001b[43murl\u001b[49m\u001b[43m,\u001b[49m\u001b[43m \u001b[49m\u001b[43merror\u001b[49m\u001b[38;5;241;43m=\u001b[39;49m\u001b[43me\u001b[49m\u001b[43m,\u001b[49m\u001b[43m \u001b[49m\u001b[43m_pool\u001b[49m\u001b[38;5;241;43m=\u001b[39;49m\u001b[38;5;28;43mself\u001b[39;49m\u001b[43m,\u001b[49m\u001b[43m \u001b[49m\u001b[43m_stacktrace\u001b[49m\u001b[38;5;241;43m=\u001b[39;49m\u001b[43msys\u001b[49m\u001b[38;5;241;43m.\u001b[39;49m\u001b[43mexc_info\u001b[49m\u001b[43m(\u001b[49m\u001b[43m)\u001b[49m\u001b[43m[\u001b[49m\u001b[38;5;241;43m2\u001b[39;49m\u001b[43m]\u001b[49m\n\u001b[1;32m    787\u001b[0m \u001b[43m\u001b[49m\u001b[43m)\u001b[49m\n\u001b[1;32m    788\u001b[0m retries\u001b[38;5;241m.\u001b[39msleep()\n",
      "File \u001b[0;32m~/miniconda3/envs/pangeo/lib/python3.9/site-packages/urllib3/util/retry.py:592\u001b[0m, in \u001b[0;36mRetry.increment\u001b[0;34m(self, method, url, response, error, _pool, _stacktrace)\u001b[0m\n\u001b[1;32m    591\u001b[0m \u001b[38;5;28;01mif\u001b[39;00m new_retry\u001b[38;5;241m.\u001b[39mis_exhausted():\n\u001b[0;32m--> 592\u001b[0m     \u001b[38;5;28;01mraise\u001b[39;00m MaxRetryError(_pool, url, error \u001b[38;5;129;01mor\u001b[39;00m ResponseError(cause))\n\u001b[1;32m    594\u001b[0m log\u001b[38;5;241m.\u001b[39mdebug(\u001b[38;5;124m\"\u001b[39m\u001b[38;5;124mIncremented Retry for (url=\u001b[39m\u001b[38;5;124m'\u001b[39m\u001b[38;5;132;01m%s\u001b[39;00m\u001b[38;5;124m'\u001b[39m\u001b[38;5;124m): \u001b[39m\u001b[38;5;132;01m%r\u001b[39;00m\u001b[38;5;124m\"\u001b[39m, url, new_retry)\n",
      "\u001b[0;31mMaxRetryError\u001b[0m: HTTPSConnectionPool(host='esgf-node.llnl.gov', port=443): Max retries exceeded with url: /esg-search/search/?activity_id=HighResMIP&table_id=Omon&variable_id=tos&experiment_id=hist-1950&institution_id=MPI-M&source_id=MPI-ESM1-2-HR&grid_label=gn&member_id=r1i1p1f1&project=CMIP6&type=File&distrib=false&format=application%2Fsolr%2Bjson&offset=0 (Caused by NewConnectionError('<urllib3.connection.HTTPSConnection object at 0x106b79c70>: Failed to establish a new connection: [Errno 8] nodename nor servname provided, or not known'))",
      "\nDuring handling of the above exception, another exception occurred:\n",
      "\u001b[0;31mConnectionError\u001b[0m                           Traceback (most recent call last)",
      "Input \u001b[0;32mIn [4]\u001b[0m, in \u001b[0;36m<cell line: 11>\u001b[0;34m()\u001b[0m\n\u001b[1;32m      9\u001b[0m grid_lbl\u001b[38;5;241m=\u001b[39m\u001b[38;5;124m\"\u001b[39m\u001b[38;5;124mgn\u001b[39m\u001b[38;5;124m\"\u001b[39m\n\u001b[1;32m     10\u001b[0m member_id\u001b[38;5;241m=\u001b[39m\u001b[38;5;124m\"\u001b[39m\u001b[38;5;124mr1i1p1f1\u001b[39m\u001b[38;5;124m\"\u001b[39m\n\u001b[0;32m---> 11\u001b[0m result \u001b[38;5;241m=\u001b[39m \u001b[43mesgf_search\u001b[49m\u001b[43m(\u001b[49m\u001b[43mactivity_id\u001b[49m\u001b[38;5;241;43m=\u001b[39;49m\u001b[43mactivity_id\u001b[49m\u001b[43m,\u001b[49m\n\u001b[1;32m     12\u001b[0m \u001b[43m                     \u001b[49m\u001b[43mtable_id\u001b[49m\u001b[38;5;241;43m=\u001b[39;49m\u001b[43mtable_id\u001b[49m\u001b[43m,\u001b[49m\n\u001b[1;32m     13\u001b[0m \u001b[43m                     \u001b[49m\u001b[43mvariable_id\u001b[49m\u001b[38;5;241;43m=\u001b[39;49m\u001b[43mvariable_id\u001b[49m\u001b[43m,\u001b[49m\n\u001b[1;32m     14\u001b[0m \u001b[43m                     \u001b[49m\u001b[43mexperiment_id\u001b[49m\u001b[38;5;241;43m=\u001b[39;49m\u001b[43mexperiment_id\u001b[49m\u001b[43m,\u001b[49m\n\u001b[1;32m     15\u001b[0m \u001b[43m                     \u001b[49m\u001b[43minstitution_id\u001b[49m\u001b[38;5;241;43m=\u001b[39;49m\u001b[43minstitution_id\u001b[49m\u001b[43m,\u001b[49m\u001b[43m \u001b[49m\n\u001b[1;32m     16\u001b[0m \u001b[43m                     \u001b[49m\u001b[43msource_id\u001b[49m\u001b[38;5;241;43m=\u001b[39;49m\u001b[43msource_id\u001b[49m\u001b[43m,\u001b[49m\n\u001b[1;32m     17\u001b[0m \u001b[43m                     \u001b[49m\u001b[43mgrid_label\u001b[49m\u001b[38;5;241;43m=\u001b[39;49m\u001b[43mgrid_lbl\u001b[49m\u001b[43m,\u001b[49m\n\u001b[1;32m     18\u001b[0m \u001b[43m                     \u001b[49m\u001b[43mmember_id\u001b[49m\u001b[38;5;241;43m=\u001b[39;49m\u001b[43mmember_id\u001b[49m\u001b[43m)\u001b[49m\n",
      "Input \u001b[0;32mIn [3]\u001b[0m, in \u001b[0;36mesgf_search\u001b[0;34m(server, files_type, local_node, project, verbose, format, use_csrf, **search)\u001b[0m\n\u001b[1;32m     38\u001b[0m url \u001b[38;5;241m=\u001b[39m \u001b[38;5;124m\"\u001b[39m\u001b[38;5;132;01m{}\u001b[39;00m\u001b[38;5;124m/?\u001b[39m\u001b[38;5;132;01m{}\u001b[39;00m\u001b[38;5;124m\"\u001b[39m\u001b[38;5;241m.\u001b[39mformat(server, \u001b[38;5;124m\"\u001b[39m\u001b[38;5;124m&\u001b[39m\u001b[38;5;124m\"\u001b[39m\u001b[38;5;241m.\u001b[39mjoin(url_keys))\n\u001b[1;32m     39\u001b[0m \u001b[38;5;28mprint\u001b[39m(url)\n\u001b[0;32m---> 40\u001b[0m r \u001b[38;5;241m=\u001b[39m \u001b[43mclient\u001b[49m\u001b[38;5;241;43m.\u001b[39;49m\u001b[43mget\u001b[49m\u001b[43m(\u001b[49m\u001b[43murl\u001b[49m\u001b[43m)\u001b[49m\n\u001b[1;32m     41\u001b[0m r\u001b[38;5;241m.\u001b[39mraise_for_status()\n\u001b[1;32m     42\u001b[0m resp \u001b[38;5;241m=\u001b[39m r\u001b[38;5;241m.\u001b[39mjson()[\u001b[38;5;124m\"\u001b[39m\u001b[38;5;124mresponse\u001b[39m\u001b[38;5;124m\"\u001b[39m]\n",
      "File \u001b[0;32m~/miniconda3/envs/pangeo/lib/python3.9/site-packages/requests/sessions.py:542\u001b[0m, in \u001b[0;36mSession.get\u001b[0;34m(self, url, **kwargs)\u001b[0m\n\u001b[1;32m    534\u001b[0m \u001b[38;5;124mr\u001b[39m\u001b[38;5;124;03m\"\"\"Sends a GET request. Returns :class:`Response` object.\u001b[39;00m\n\u001b[1;32m    535\u001b[0m \n\u001b[1;32m    536\u001b[0m \u001b[38;5;124;03m:param url: URL for the new :class:`Request` object.\u001b[39;00m\n\u001b[1;32m    537\u001b[0m \u001b[38;5;124;03m:param \\*\\*kwargs: Optional arguments that ``request`` takes.\u001b[39;00m\n\u001b[1;32m    538\u001b[0m \u001b[38;5;124;03m:rtype: requests.Response\u001b[39;00m\n\u001b[1;32m    539\u001b[0m \u001b[38;5;124;03m\"\"\"\u001b[39;00m\n\u001b[1;32m    541\u001b[0m kwargs\u001b[38;5;241m.\u001b[39msetdefault(\u001b[38;5;124m'\u001b[39m\u001b[38;5;124mallow_redirects\u001b[39m\u001b[38;5;124m'\u001b[39m, \u001b[38;5;28;01mTrue\u001b[39;00m)\n\u001b[0;32m--> 542\u001b[0m \u001b[38;5;28;01mreturn\u001b[39;00m \u001b[38;5;28;43mself\u001b[39;49m\u001b[38;5;241;43m.\u001b[39;49m\u001b[43mrequest\u001b[49m\u001b[43m(\u001b[49m\u001b[38;5;124;43m'\u001b[39;49m\u001b[38;5;124;43mGET\u001b[39;49m\u001b[38;5;124;43m'\u001b[39;49m\u001b[43m,\u001b[49m\u001b[43m \u001b[49m\u001b[43murl\u001b[49m\u001b[43m,\u001b[49m\u001b[43m \u001b[49m\u001b[38;5;241;43m*\u001b[39;49m\u001b[38;5;241;43m*\u001b[39;49m\u001b[43mkwargs\u001b[49m\u001b[43m)\u001b[49m\n",
      "File \u001b[0;32m~/miniconda3/envs/pangeo/lib/python3.9/site-packages/requests/sessions.py:529\u001b[0m, in \u001b[0;36mSession.request\u001b[0;34m(self, method, url, params, data, headers, cookies, files, auth, timeout, allow_redirects, proxies, hooks, stream, verify, cert, json)\u001b[0m\n\u001b[1;32m    524\u001b[0m send_kwargs \u001b[38;5;241m=\u001b[39m {\n\u001b[1;32m    525\u001b[0m     \u001b[38;5;124m'\u001b[39m\u001b[38;5;124mtimeout\u001b[39m\u001b[38;5;124m'\u001b[39m: timeout,\n\u001b[1;32m    526\u001b[0m     \u001b[38;5;124m'\u001b[39m\u001b[38;5;124mallow_redirects\u001b[39m\u001b[38;5;124m'\u001b[39m: allow_redirects,\n\u001b[1;32m    527\u001b[0m }\n\u001b[1;32m    528\u001b[0m send_kwargs\u001b[38;5;241m.\u001b[39mupdate(settings)\n\u001b[0;32m--> 529\u001b[0m resp \u001b[38;5;241m=\u001b[39m \u001b[38;5;28;43mself\u001b[39;49m\u001b[38;5;241;43m.\u001b[39;49m\u001b[43msend\u001b[49m\u001b[43m(\u001b[49m\u001b[43mprep\u001b[49m\u001b[43m,\u001b[49m\u001b[43m \u001b[49m\u001b[38;5;241;43m*\u001b[39;49m\u001b[38;5;241;43m*\u001b[39;49m\u001b[43msend_kwargs\u001b[49m\u001b[43m)\u001b[49m\n\u001b[1;32m    531\u001b[0m \u001b[38;5;28;01mreturn\u001b[39;00m resp\n",
      "File \u001b[0;32m~/miniconda3/envs/pangeo/lib/python3.9/site-packages/requests/sessions.py:645\u001b[0m, in \u001b[0;36mSession.send\u001b[0;34m(self, request, **kwargs)\u001b[0m\n\u001b[1;32m    642\u001b[0m start \u001b[38;5;241m=\u001b[39m preferred_clock()\n\u001b[1;32m    644\u001b[0m \u001b[38;5;66;03m# Send the request\u001b[39;00m\n\u001b[0;32m--> 645\u001b[0m r \u001b[38;5;241m=\u001b[39m \u001b[43madapter\u001b[49m\u001b[38;5;241;43m.\u001b[39;49m\u001b[43msend\u001b[49m\u001b[43m(\u001b[49m\u001b[43mrequest\u001b[49m\u001b[43m,\u001b[49m\u001b[43m \u001b[49m\u001b[38;5;241;43m*\u001b[39;49m\u001b[38;5;241;43m*\u001b[39;49m\u001b[43mkwargs\u001b[49m\u001b[43m)\u001b[49m\n\u001b[1;32m    647\u001b[0m \u001b[38;5;66;03m# Total elapsed time of the request (approximately)\u001b[39;00m\n\u001b[1;32m    648\u001b[0m elapsed \u001b[38;5;241m=\u001b[39m preferred_clock() \u001b[38;5;241m-\u001b[39m start\n",
      "File \u001b[0;32m~/miniconda3/envs/pangeo/lib/python3.9/site-packages/requests/adapters.py:519\u001b[0m, in \u001b[0;36mHTTPAdapter.send\u001b[0;34m(self, request, stream, timeout, verify, cert, proxies)\u001b[0m\n\u001b[1;32m    515\u001b[0m     \u001b[38;5;28;01mif\u001b[39;00m \u001b[38;5;28misinstance\u001b[39m(e\u001b[38;5;241m.\u001b[39mreason, _SSLError):\n\u001b[1;32m    516\u001b[0m         \u001b[38;5;66;03m# This branch is for urllib3 v1.22 and later.\u001b[39;00m\n\u001b[1;32m    517\u001b[0m         \u001b[38;5;28;01mraise\u001b[39;00m SSLError(e, request\u001b[38;5;241m=\u001b[39mrequest)\n\u001b[0;32m--> 519\u001b[0m     \u001b[38;5;28;01mraise\u001b[39;00m \u001b[38;5;167;01mConnectionError\u001b[39;00m(e, request\u001b[38;5;241m=\u001b[39mrequest)\n\u001b[1;32m    521\u001b[0m \u001b[38;5;28;01mexcept\u001b[39;00m ClosedPoolError \u001b[38;5;28;01mas\u001b[39;00m e:\n\u001b[1;32m    522\u001b[0m     \u001b[38;5;28;01mraise\u001b[39;00m \u001b[38;5;167;01mConnectionError\u001b[39;00m(e, request\u001b[38;5;241m=\u001b[39mrequest)\n",
      "\u001b[0;31mConnectionError\u001b[0m: HTTPSConnectionPool(host='esgf-node.llnl.gov', port=443): Max retries exceeded with url: /esg-search/search/?activity_id=HighResMIP&table_id=Omon&variable_id=tos&experiment_id=hist-1950&institution_id=MPI-M&source_id=MPI-ESM1-2-HR&grid_label=gn&member_id=r1i1p1f1&project=CMIP6&type=File&distrib=false&format=application%2Fsolr%2Bjson&offset=0 (Caused by NewConnectionError('<urllib3.connection.HTTPSConnection object at 0x106b79c70>: Failed to establish a new connection: [Errno 8] nodename nor servname provided, or not known'))"
     ]
    }
   ],
   "source": [
    "#institution_id=\"CNRM-CERFACS\"\n",
    "mip_era=\"CMIP6\"\n",
    "activity_id=\"HighResMIP\"\n",
    "table_id=\"Omon\"\n",
    "variable_id=\"tos\"\n",
    "experiment_id='hist-1950'\n",
    "institution_id=\"MPI-M\"\n",
    "source_id=\"MPI-ESM1-2-HR\"\n",
    "grid_lbl=\"gn\"\n",
    "member_id=\"r1i1p1f1\"\n",
    "result = esgf_search(activity_id=activity_id,\n",
    "                     table_id=table_id,\n",
    "                     variable_id=variable_id,\n",
    "                     experiment_id=experiment_id,\n",
    "                     institution_id=institution_id, \n",
    "                     source_id=source_id,\n",
    "                     grid_label=grid_lbl,\n",
    "                     member_id=member_id)\n",
    "# there are mulitple sources of the same data--need to pick one"
   ]
  },
  {
   "cell_type": "code",
   "execution_count": null,
   "id": "6517dda6-6a2a-402a-a6ba-77c8e95c5ffd",
   "metadata": {},
   "outputs": [],
   "source": [
    "files_to_open = result\n",
    "print(files_to_open[31:]) #Si empieza en el año 1950 hasta el 1981 es 31 (indice 0)"
   ]
  },
  {
   "cell_type": "code",
   "execution_count": null,
   "id": "1d0d1022",
   "metadata": {},
   "outputs": [],
   "source": [
    "# Leemos datos\n",
    "#ds = xr.open_mfdataset(files_to_open,combine='nested',concat_dim='time',paralell='True')\n",
    "ds = xr.open_dataset(files_to_open[0])\n",
    "print(ds.time[-1].values)\n",
    "#Periodo de tiempo común entre modelo y datos de NOAA\n",
    "ds=ds.sel(time=slice('1981-12','2014-12'))\n",
    "print(ds.tos.sizes)"
   ]
  },
  {
   "cell_type": "code",
   "execution_count": null,
   "id": "444d3edc-d133-4e0b-a813-b2297b4a67bd",
   "metadata": {},
   "outputs": [],
   "source": [
    "ds"
   ]
  },
  {
   "cell_type": "markdown",
   "id": "317154f4-7396-4cae-82f3-69357bb1db50",
   "metadata": {},
   "source": [
    "## Ahora falta seleccionar las diferentes áreas de Estudio: \n"
   ]
  },
  {
   "cell_type": "markdown",
   "id": "4bbbf59c-5e07-4770-8f55-e771036b8420",
   "metadata": {},
   "source": [
    "# Canarias"
   ]
  },
  {
   "cell_type": "code",
   "execution_count": null,
   "id": "239be2a7-9b61-43f0-81e4-0937145b05c5",
   "metadata": {
    "tags": []
   },
   "outputs": [],
   "source": [
    "#Canarias:\n",
    "Ca_bnd_ln=np.array([-25, -5])\n",
    "Ca_bnd_lt=np.array([10, 45])\n",
    "\n",
    "#Como lon/lat son matrices 2D necesito una mascara para cortar regiones\n",
    "#idea: usando el operador 'or' puedo tener las cuatro regiones en una matriz.\n",
    "msc_ln = (ds.lon>= Ca_bnd_ln[0]) & (ds.lon <= Ca_bnd_ln[1])\n",
    "msc_lt = (ds.lat>= Ca_bnd_lt[0]) & (ds.lat <= Ca_bnd_lt[1])\n",
    "\n",
    "Ca_ds = ds.where(msc_ln & msc_lt, drop=True)\n",
    "Ca_ds\n"
   ]
  },
  {
   "cell_type": "code",
   "execution_count": null,
   "id": "fa9f3ca3-83e5-49b3-b524-79026a8d5c02",
   "metadata": {
    "tags": []
   },
   "outputs": [],
   "source": [
    "Ca_ds.lat[:,0].values"
   ]
  },
  {
   "cell_type": "code",
   "execution_count": null,
   "id": "0c6474ae-3d59-4c32-8a94-b4f848468838",
   "metadata": {},
   "outputs": [],
   "source": [
    "fig=plt.figure(figsize=(14,14))\n",
    "ax = plt.axes(projection=ccrs.PlateCarree())\n",
    "ax.coastlines()\n",
    "cf=ax.contourf(Ca_ds.lon,Ca_ds.lat,\n",
    "               Ca_ds.tos.mean('time'), cmap='coolwarm')\n",
    "#plt.plot(Ca_ds.lon,Ca_ds.lat,'o')\n",
    "fig.colorbar(cf,label='Change in SST (ºC) since 1982', extend='neither',orientation='horizontal');\n",
    "#Grid de 25km de resolución regular no hace falta interpolar."
   ]
  },
  {
   "cell_type": "code",
   "execution_count": null,
   "id": "7df78b7e-ae1f-4826-8c29-c8b03671b779",
   "metadata": {},
   "outputs": [],
   "source": [
    "fig=plt.figure(figsize=(14,14))\n",
    "ax = plt.axes(projection=ccrs.PlateCarree())\n",
    "ax.coastlines()\n",
    "cf=ax.contourf(Ca_ds.lon,Ca_ds.lat,\n",
    "               Ca_ds.tos.sel(time=slice('2014-01','2014-12')).mean('time')\n",
    "               -Ca_ds.tos.sel(time=slice('1982-01','1982-12')).mean('time'), \n",
    "               cmap='coolwarm')\n",
    "#plt.plot(Ca_ds.lon,Ca_ds.lat,'o')\n",
    "fig.colorbar(cf,label='Change in SST (ºC) since 1982', extend='neither',orientation='horizontal');\n",
    "#Grid de 25km de resolución regular no hace falta interpolar."
   ]
  },
  {
   "cell_type": "code",
   "execution_count": null,
   "id": "94540da8-96ef-48f4-9cff-a649634dbeb6",
   "metadata": {},
   "outputs": [],
   "source": [
    "print(type(ds.time[0]))"
   ]
  },
  {
   "cell_type": "code",
   "execution_count": null,
   "id": "9f597184-4d5c-46ff-a849-77860ec31e4e",
   "metadata": {},
   "outputs": [],
   "source": [
    "#Para guardar el .nc, el nombre del fichero sigue la plantilla de los metadatos\n",
    "#dataset_id_template_ = variable_id_table_id_source_id_experiment_id_member_id_grid_label_YYYYMM-YYYYMM\n",
    "\n",
    "Fecha_ini=np.datetime_as_string(ds.time[0],unit=\"D\")\n",
    "Fecha_ini=Fecha_ini.replace(\"-\",\"\")\n",
    "Fecha_fin=np.datetime_as_string(ds.time[-1],unit=\"D\")\n",
    "Fecha_fin=Fecha_fin.replace(\"-\",\"\")\n",
    "\n",
    "FileIn=f'CaCLME_{variable_id}_{table_id}_{source_id}_{experiment_id}_{member_id}_{grid_lbl}_{Fecha_ini}_{Fecha_fin}.nc' \n",
    "FileIn\n",
    "Ca_ds.to_netcdf(FileIn) # lon lat recortados"
   ]
  },
  {
   "cell_type": "markdown",
   "id": "35f589da-8f17-466c-ab57-01a6e77cb953",
   "metadata": {},
   "source": [
    "Cells para OMIP porque el datatype es .cftime. En el resto de productos es tipo numpy.datetime64"
   ]
  },
  {
   "cell_type": "code",
   "execution_count": null,
   "id": "3ae2842f-6ac4-4338-94b1-1ab8c150f326",
   "metadata": {},
   "outputs": [],
   "source": [
    "#Para guardar el .nc, el nombre del fichero sigue la plantilla de los metadatos\n",
    "#dataset_id_template_ = variable_id_table_id_source_id_experiment_id_member_id_grid_label_YYYYMM-YYYYMM\n",
    "\n",
    "#print(ds.time[0].dt.strftime(\"%d%m%Y\").values)\n",
    "#Fecha_ini=ds.time[0].dt.strftime(\"%Y%m%d\").values\n",
    "\n",
    "#Fecha_fin=ds.time[-1].dt.strftime(\"%Y%m%d\").values\n",
    "\n",
    "#FileIn=f'CaCLME_{variable_id}_{table_id}_{source_id}_{experiment_id}_{member_id}_{grid_lbl}_{Fecha_ini}_{Fecha_fin}.nc' \n",
    "#print(FileIn)\n",
    "#Ca_ds.to_netcdf(FileIn) # lon lat recortados"
   ]
  },
  {
   "cell_type": "markdown",
   "id": "89fd86c1-5cd0-44e8-aa83-cc63e7d23028",
   "metadata": {},
   "source": [
    "# California"
   ]
  },
  {
   "cell_type": "code",
   "execution_count": null,
   "id": "7bd61e6f-656a-4836-90b4-08d72e44b1e2",
   "metadata": {},
   "outputs": [],
   "source": [
    "Cl_bnd_ln=np.array([ -131,-110])\n",
    "Cl_bnd_lt=np.array([10, 45])\n",
    "\n",
    "#Como lon/lat son matrices 2D necesito una mascara para cortar regiones\n",
    "#idea: usando el operador 'or' puedo tener las cuatro regiones en una matriz.\n",
    "msc_ln = (ds.lon>= Cl_bnd_ln[0]) & (ds.lon <= Cl_bnd_ln[1])\n",
    "msc_lt = (ds.lat>= Cl_bnd_lt[0]) & (ds.lat <= Cl_bnd_lt[1])\n",
    "\n",
    "Cl_ds = ds.where(msc_ln & msc_lt, drop=True)\n",
    "Cl_ds "
   ]
  },
  {
   "cell_type": "code",
   "execution_count": null,
   "id": "55fd27d3-1752-4da1-a81e-56b7ae671b04",
   "metadata": {},
   "outputs": [],
   "source": [
    "fig=plt.figure(figsize=(14,14))\n",
    "\n",
    "ax = plt.axes(projection=ccrs.PlateCarree())\n",
    "ax.coastlines()\n",
    "\n",
    "cf=ax.contourf(Cl_ds.lon,Cl_ds.lat,\n",
    "               Cl_ds.tos.mean('time'), cmap='coolwarm')\n",
    "\n",
    "fig.colorbar(cf,label='Change in SST (ºC) since 1982', extend='neither',orientation='horizontal');\n",
    "#Grid de 25km de resolución regular no hace falta interpolar."
   ]
  },
  {
   "cell_type": "code",
   "execution_count": null,
   "id": "70741d34-1be1-4fc0-8d1f-9b8076088086",
   "metadata": {},
   "outputs": [],
   "source": [
    "fig=plt.figure(figsize=(14,14))\n",
    "\n",
    "ax = plt.axes(projection=ccrs.PlateCarree())\n",
    "ax.coastlines()\n",
    "\n",
    "cf=ax.contourf(Cl_ds.lon,Cl_ds.lat,\n",
    "               Cl_ds.tos.sel(time=slice('2018-01','2018-12')).mean('time')\n",
    "               -Cl_ds.tos.sel(time=slice('1982-01','1982-12')).mean('time'), cmap='coolwarm')\n",
    "\n",
    "fig.colorbar(cf,label='Change in SST (ºC) since 1982', extend='neither',orientation='horizontal');\n",
    "#Grid de 25km de resolución regular no hace falta interpolar."
   ]
  },
  {
   "cell_type": "code",
   "execution_count": null,
   "id": "9fcef8ae-e521-4ba6-9a5e-c07e8a0cfdc4",
   "metadata": {},
   "outputs": [],
   "source": [
    "#Para guardar el .nc, el nombre del fichero sigue la plantilla de los metadatos\n",
    "#dataset_id_template_ = variable_id_table_id_source_id_experiment_id_member_id_grid_label_YYYYMM-YYYYMM\n",
    "\n",
    "FileIn=f'ClCLME_{variable_id}_{table_id}_{source_id}_{experiment_id}_{member_id}_{grid_lbl}_{Fecha_ini}_{Fecha_fin}.nc' \n",
    "FileIn\n",
    "Cl_ds.to_netcdf(FileIn) # lon lat recortados"
   ]
  },
  {
   "cell_type": "markdown",
   "id": "8c1d5c9a-6a12-4d3a-b400-edcc74e438ab",
   "metadata": {},
   "source": [
    "# Benguela"
   ]
  },
  {
   "cell_type": "code",
   "execution_count": null,
   "id": "dc78c796-5166-46f0-b206-4209377abf91",
   "metadata": {},
   "outputs": [],
   "source": [
    "Be_bnd_ln=np.array([0,20])\n",
    "Be_bnd_lt=np.array([-45,-10])\n",
    "\n",
    "#Como lon/lat son matrices 2D necesito una mascara para cortar regiones\n",
    "#idea: usando el operador 'or' puedo tener las cuatro regiones en una matriz.\n",
    "\n",
    "msc_ln = (ds.lon>= Be_bnd_ln[0]) & (ds.lon <= Be_bnd_ln[1])\n",
    "msc_lt = (ds.lat>= Be_bnd_lt[0]) & (ds.lat <= Be_bnd_lt[1])\n",
    "\n",
    "Be_ds = ds.where(msc_ln & msc_lt, drop=True)\n",
    "Be_ds "
   ]
  },
  {
   "cell_type": "code",
   "execution_count": null,
   "id": "6d73bbfe-e574-4e9e-9076-db4883e310a4",
   "metadata": {},
   "outputs": [],
   "source": [
    "fig=plt.figure(figsize=(14,14))\n",
    "\n",
    "ax = plt.axes(projection=ccrs.PlateCarree())\n",
    "ax.coastlines()\n",
    "\n",
    "cf=ax.contourf(Be_ds.lon,Be_ds.lat,\n",
    "               Be_ds.tos.mean('time'), cmap='coolwarm')\n",
    "\n",
    "fig.colorbar(cf,label='Change in SST (ºC) since 1982', extend='neither',orientation='horizontal');\n",
    "#Grid de 25km de resolución regular no hace falta interpolar."
   ]
  },
  {
   "cell_type": "code",
   "execution_count": null,
   "id": "dadc2d48-daac-4545-b55c-8dbca989d89a",
   "metadata": {},
   "outputs": [],
   "source": [
    "fig=plt.figure(figsize=(14,14))\n",
    "\n",
    "ax = plt.axes(projection=ccrs.PlateCarree())\n",
    "ax.coastlines()\n",
    "\n",
    "cf=ax.contourf(Be_ds.lon,Be_ds.lat,\n",
    "               Be_ds.tos.sel(time=slice('2014-01','2014-12')).mean('time')\n",
    "               -Be_ds.tos.sel(time=slice('1982-01','1982-12')).mean('time'), cmap='coolwarm')\n",
    "\n",
    "fig.colorbar(cf,label='Change in SST (ºC) since 1982', extend='neither',orientation='horizontal');\n",
    "#Grid de 25km de resolución regular no hace falta interpolar."
   ]
  },
  {
   "cell_type": "code",
   "execution_count": null,
   "id": "fd0986bc-c9f5-4901-abda-b8b7981e69a4",
   "metadata": {},
   "outputs": [],
   "source": [
    "#Para guardar el .nc, el nombre del fichero sigue la plantilla de los metadatos\n",
    "#dataset_id_template_ = variable_id_table_id_source_id_experiment_id_member_id_grid_label_YYYYMM-YYYYMM\n",
    "\n",
    "FileIn=f'BeCLME_{variable_id}_{table_id}_{source_id}_{experiment_id}_{member_id}_{grid_lbl}_{Fecha_ini}_{Fecha_fin}.nc' \n",
    "FileIn\n",
    "Be_ds.to_netcdf(FileIn) # lon lat recortados"
   ]
  },
  {
   "cell_type": "markdown",
   "id": "6fe60d7c-0c7e-489c-a42b-5b266d4a7309",
   "metadata": {},
   "source": [
    "# Humboldt"
   ]
  },
  {
   "cell_type": "code",
   "execution_count": null,
   "id": "1eb86a33-c217-465d-bec4-57319c2ea362",
   "metadata": {},
   "outputs": [],
   "source": [
    "Hu_bnd_ln=np.array([-90,-68])\n",
    "Hu_bnd_lt=np.array([-45,-10])\n",
    "\n",
    "#Como lon/lat son matrices 2D necesito una mascara para cortar regiones\n",
    "#idea: usando el operador 'or' puedo tener las cuatro regiones en una matriz.\n",
    "\n",
    "msc_ln = (ds.lon>= Hu_bnd_ln[0]) & (ds.lon <= Hu_bnd_ln[1])\n",
    "msc_lt = (ds.lat>= Hu_bnd_lt[0]) & (ds.lat <= Hu_bnd_lt[1])\n",
    "\n",
    "Hu_ds = ds.where(msc_ln & msc_lt, drop=True)\n",
    "Hu_ds "
   ]
  },
  {
   "cell_type": "code",
   "execution_count": null,
   "id": "10ae227b-3e11-4a69-b3a0-0d8b2ce30ec4",
   "metadata": {},
   "outputs": [],
   "source": [
    "fig=plt.figure(figsize=(14,14))\n",
    "\n",
    "ax = plt.axes(projection=ccrs.PlateCarree())\n",
    "ax.coastlines()\n",
    "\n",
    "cf=ax.contourf(Hu_ds.lon,Hu_ds.lat,\n",
    "               Hu_ds.tos.mean('time'), cmap='coolwarm')\n",
    "\n",
    "fig.colorbar(cf,label='Change in SST (ºC) since 1982', extend='neither',orientation='horizontal');\n",
    "#Grid de 25km de resolución regular no hace falta interpolar."
   ]
  },
  {
   "cell_type": "code",
   "execution_count": null,
   "id": "22672af1-5240-4239-b8c8-b833b2f42f19",
   "metadata": {},
   "outputs": [],
   "source": [
    "fig=plt.figure(figsize=(14,14))\n",
    "\n",
    "ax = plt.axes(projection=ccrs.PlateCarree())\n",
    "ax.coastlines()\n",
    "\n",
    "cf=ax.contourf(Hu_ds.lon,Hu_ds.lat,\n",
    "               Hu_ds.tos.sel(time=slice('2018-01','2018-12')).mean('time')\n",
    "               -Hu_ds.tos.sel(time=slice('1982-01','1982-12')).mean('time'), cmap='coolwarm')\n",
    "\n",
    "fig.colorbar(cf,label='Change in SST (ºC) since 1982', extend='neither',orientation='horizontal');\n",
    "#Grid de 25km de resolución regular no hace falta interpolar."
   ]
  },
  {
   "cell_type": "code",
   "execution_count": null,
   "id": "5cc6c9c1-c91a-4287-9ac4-502e4c7bf2b2",
   "metadata": {},
   "outputs": [],
   "source": [
    "#Para guardar el .nc, el nombre del fichero sigue la plantilla de los metadatos\n",
    "#dataset_id_template_ = variable_id_table_id_source_id_experiment_id_member_id_grid_label_YYYYMM-YYYYMM\n",
    "\n",
    "FileIn=f'HuCLME_{variable_id}_{table_id}_{source_id}_{experiment_id}_{member_id}_{grid_lbl}_{Fecha_ini}_{Fecha_fin}.nc' \n",
    "FileIn\n",
    "Hu_ds.to_netcdf(FileIn) # lon lat recortados"
   ]
  },
  {
   "cell_type": "code",
   "execution_count": null,
   "id": "fe4c33d3-16b9-4b92-bf29-7fa455125d8d",
   "metadata": {},
   "outputs": [],
   "source": []
  }
 ],
 "metadata": {
  "kernelspec": {
   "display_name": "Python 3 (ipykernel)",
   "language": "python",
   "name": "python3"
  },
  "language_info": {
   "codemirror_mode": {
    "name": "ipython",
    "version": 3
   },
   "file_extension": ".py",
   "mimetype": "text/x-python",
   "name": "python",
   "nbconvert_exporter": "python",
   "pygments_lexer": "ipython3",
   "version": "3.9.12"
  }
 },
 "nbformat": 4,
 "nbformat_minor": 5
}
